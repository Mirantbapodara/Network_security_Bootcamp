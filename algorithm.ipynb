A_1 

from hashlib import blake2b
h = blake2b()
h.update(b'Hello world')
h.hexdigest()
'6ff843ba685842aa82031d3f53c48b66326df7639a63d128974c5c14f31a0f33343a8c65551134ed1ae0f2b0dd2bb495dc81039e3eeb0aa1bb0388bbeac29183


A_2

from hashlib import blake2b
items = [b'Hello', b' ', b'world']
h = blake2b()
for item in items:
    h.update(item)
h.hexdigest()
'6ff843ba685842aa82031d3f53c48b66326df7639a63d128974c5c14f31a0f33343a8c65551134ed1ae0f2b0dd2bb495dc81039e3eeb0aa1bb0388bbeac29183


A_3

from hashlib import blake2b
h = blake2b(digest_size=20)
h.update(b'Replacing SHA1 with the more secure function')
h.hexdigest()
'd24f26cf8de66472d58d4e1b1774b4c9158b1f4c'
h.digest_size
20
len(h.digest())
20